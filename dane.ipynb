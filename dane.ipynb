{
  "cells": [
    {
      "cell_type": "markdown",
      "metadata": {
        "id": "view-in-github",
        "colab_type": "text"
      },
      "source": [
        "<a href=\"https://colab.research.google.com/github/juangarcho/dane/blob/main/dane.ipynb\" target=\"_parent\"><img src=\"https://colab.research.google.com/assets/colab-badge.svg\" alt=\"Open In Colab\"/></a>"
      ]
    },
    {
      "cell_type": "code",
      "source": [
        "import pandas as pd"
      ],
      "metadata": {
        "id": "JslcWDBkLUlN"
      },
      "execution_count": null,
      "outputs": []
    },
    {
      "cell_type": "code",
      "source": [
        "archivo_csv_octubre = 'https://raw.githubusercontent.com/juangarcho/dane/main/Octubre.csv'\n",
        "# Importar el archivo CSV en un DataFrame\n",
        "df_octubre = pd.read_csv(archivo_csv_octubre, sep=';', decimal=',')"
      ],
      "metadata": {
        "id": "bVJJ94RKMTLJ"
      },
      "execution_count": null,
      "outputs": []
    },
    {
      "cell_type": "code",
      "source": [
        "archivo_csv_noviembre = 'https://raw.githubusercontent.com/juangarcho/dane/main/Noviembre.csv'\n",
        "# Importar el archivo CSV en un DataFrame\n",
        "df_noviembre = pd.read_csv(archivo_csv_noviembre, sep=';', decimal=',')"
      ],
      "metadata": {
        "id": "Il5yLrbROOkI"
      },
      "execution_count": null,
      "outputs": []
    },
    {
      "cell_type": "code",
      "source": [
        "archivo_csv_diciembre = 'https://raw.githubusercontent.com/juangarcho/dane/main/Diciembre.csv'\n",
        "# Importar el archivo CSV en un DataFrame\n",
        "df_diciembre = pd.read_csv(archivo_csv_diciembre, sep=';', decimal=',')\n"
      ],
      "metadata": {
        "id": "YFrEEPqOOXpV"
      },
      "execution_count": null,
      "outputs": []
    },
    {
      "cell_type": "code",
      "source": [
        "# Mostramos las primeras filas del DataFrame de octubre\n",
        "print(\"Primeras filas del DataFrame Octubre:\")\n",
        "print(df_octubre.head())"
      ],
      "metadata": {
        "id": "zKSobFqEQLJh",
        "outputId": "b7c0dabd-dd06-4030-bfc5-1f2aa6cdd4dd",
        "colab": {
          "base_uri": "https://localhost:8080/"
        }
      },
      "execution_count": null,
      "outputs": [
        {
          "output_type": "stream",
          "name": "stdout",
          "text": [
            "Primeras filas del DataFrame Octubre:\n",
            "   FECH  ADUA  PAIS COD_PAI4  COD_SAL1 COD_SAL  DPTO2  VIA  BANDERA  REGIM  \\\n",
            "0  2310     1   249      USA         0     AXM     68    9      249      1   \n",
            "1  2310     1   580      PAN         0     AXM     68    0      580      1   \n",
            "2  2310     3    23      DEU         3     BOG      5    3       23      1   \n",
            "3  2310     3    23      DEU         3     BOG      5    3       23      1   \n",
            "4  2310     3    23      DEU         3     BOG      5    3       23      1   \n",
            "\n",
            "   ...  CODUNI2   CANTI        PBK       PNK     FOBDOL        FOBPES  AGRENA  \\\n",
            "0  ...       M3  110.11  115667.45  88974.96  108082.89  4.572566e+08       0   \n",
            "1  ...       M3   21.58   22674.26  17441.74   18547.00  7.846512e+07       0   \n",
            "2  ...       KG  576.00     654.00    576.00    4475.52  1.814268e+07       0   \n",
            "3  ...       KG   84.00     100.75     84.00     525.00  2.221070e+06       0   \n",
            "4  ...       KG   30.00      35.98     30.00     114.00  4.822895e+05       0   \n",
            "\n",
            "   FLETES  SEGURO  OTROSG  \n",
            "0       0       0       0  \n",
            "1       0       0       0  \n",
            "2  1353.6       0       0  \n",
            "3       0       0       0  \n",
            "4       0       0       0  \n",
            "\n",
            "[5 rows x 27 columns]\n"
          ]
        }
      ]
    },
    {
      "cell_type": "code",
      "source": [
        "# Describimos el DataFrame\n",
        "descripcion = df_octubre.describe()\n",
        "print(\"\\nDescripción del DataFrame Octubre:\")\n",
        "print(descripcion)"
      ],
      "metadata": {
        "id": "iRQiIc2JR0bS",
        "outputId": "9133f9f7-bb3b-43d7-d21e-9c816176ed8b",
        "colab": {
          "base_uri": "https://localhost:8080/"
        }
      },
      "execution_count": null,
      "outputs": [
        {
          "output_type": "stream",
          "name": "stdout",
          "text": [
            "\n",
            "Descripción del DataFrame Octubre:\n",
            "          FECH          ADUA         PAIS      COD_SAL1         DPTO2  \\\n",
            "count  41158.0  41158.000000  41158.00000  41158.000000  41158.000000   \n",
            "mean    2310.0     37.791462    369.74146     13.704140     22.906458   \n",
            "std        0.0     27.962128    213.30581     14.007308     23.792390   \n",
            "min     2310.0      1.000000     23.00000      0.000000      0.000000   \n",
            "25%     2310.0      3.000000    239.00000      3.000000      8.000000   \n",
            "50%     2310.0     37.000000    249.00000      6.000000     11.000000   \n",
            "75%     2310.0     48.000000    580.00000     35.000000     25.000000   \n",
            "max     2310.0     90.000000    954.00000     46.000000     88.000000   \n",
            "\n",
            "                VIA       BANDERA         REGIM         MODAD       FINALID  \\\n",
            "count  41158.000000  41158.000000  41158.000000  41158.000000  41158.000000   \n",
            "mean       4.977404    398.381846      1.014870    190.091355      1.086180   \n",
            "std        3.623204    222.902884      0.236135     37.997728      0.280633   \n",
            "min        0.000000     23.000000      1.000000      2.000000      1.000000   \n",
            "25%        1.000000    211.000000      1.000000    198.000000      1.000000   \n",
            "50%        7.000000    431.000000      1.000000    198.000000      1.000000   \n",
            "75%        9.000000    580.000000      1.000000    198.000000      1.000000   \n",
            "max        9.000000    999.000000      5.000000    402.000000      2.000000   \n",
            "\n",
            "           CER_ORI1        SISESP         POSAR         DPTO1          UNID  \\\n",
            "count  41158.000000  41158.000000  4.115800e+04  41158.000000  41158.000000   \n",
            "mean       7.322027      1.802080  4.545124e+09     22.546407     24.305214   \n",
            "std        1.909637      0.398437  2.748217e+09     23.809249     16.094907   \n",
            "min        1.000000      1.000000  1.012100e+08      0.000000     11.000000   \n",
            "25%        8.000000      2.000000  2.103909e+09      5.000000     11.000000   \n",
            "50%        8.000000      2.000000  3.926909e+09     11.000000     33.000000   \n",
            "75%        8.000000      2.000000  6.305331e+09     25.000000     33.000000   \n",
            "max        8.000000      2.000000  9.807200e+09     94.000000     82.000000   \n",
            "\n",
            "              CANTI           PBK           PNK        FOBDOL        FOBPES  \n",
            "count  4.115800e+04  4.115800e+04  4.115800e+04  4.115800e+04  4.115800e+04  \n",
            "mean   1.899967e+05  2.074042e+05  2.065218e+05  1.008832e+05  4.250077e+08  \n",
            "std    4.357848e+06  6.050983e+06  6.050825e+06  2.733720e+06  1.145679e+10  \n",
            "min    1.000000e-02  0.000000e+00  0.000000e+00  1.000000e-02  4.053000e+01  \n",
            "25%    4.750000e+01  3.652500e+01  3.079000e+01  5.459175e+02  2.296129e+06  \n",
            "50%    4.800000e+02  3.320550e+02  2.890700e+02  3.645600e+03  1.540347e+07  \n",
            "75%    6.652100e+03  4.112352e+03  3.651510e+03  2.160000e+04  9.119411e+07  \n",
            "max    3.304395e+08  6.248034e+08  6.248034e+08  3.424532e+08  1.427690e+12  \n"
          ]
        }
      ]
    },
    {
      "cell_type": "code",
      "source": [
        "# Eliminar filas con valores faltantes en dataframe octubre\n",
        "df_octubre = df_octubre.dropna()"
      ],
      "metadata": {
        "id": "dU6MqhT5TxNV"
      },
      "execution_count": null,
      "outputs": []
    },
    {
      "cell_type": "code",
      "source": [
        "# Imprimir el DataFrame octubre después de eliminar filas con valores faltantes\n",
        "print(\"\\nDataFrame octubre después de eliminar filas con valores faltantes:\")\n",
        "print(df_octubre)"
      ],
      "metadata": {
        "id": "-XMHyB-kT6Ae",
        "outputId": "4fcc6643-77e6-4c0f-80c3-6e37a752bdd2",
        "colab": {
          "base_uri": "https://localhost:8080/"
        }
      },
      "execution_count": null,
      "outputs": [
        {
          "output_type": "stream",
          "name": "stdout",
          "text": [
            "\n",
            "DataFrame octubre después de eliminar filas con valores faltantes:\n",
            "       FECH  ADUA  PAIS COD_PAI4  COD_SAL1 COD_SAL  DPTO2  VIA  BANDERA  \\\n",
            "0      2310     1   249      USA         0     AXM     68    9      249   \n",
            "1      2310     1   580      PAN         0     AXM     68    0      580   \n",
            "2      2310     3    23      DEU         3     BOG      5    3       23   \n",
            "3      2310     3    23      DEU         3     BOG      5    3       23   \n",
            "4      2310     3    23      DEU         3     BOG      5    3       23   \n",
            "...     ...   ...   ...      ...       ...     ...    ...  ...      ...   \n",
            "41153  2310    90   917      XCF        11     MDE      5    9      999   \n",
            "41154  2310    90   917      XCF        11     MDE      5    9      999   \n",
            "41155  2310    90   917      XCF        11     MDE      5    9      999   \n",
            "41156  2310    90   917      XCF        11     MDE      5    9      999   \n",
            "41157  2310    90   917      XCF        11     MDE     11    9      999   \n",
            "\n",
            "       REGIM  ...  CODUNI2    CANTI        PBK       PNK       FOBDOL  \\\n",
            "0          1  ...       M3   110.11  115667.45  88974.96    108082.89   \n",
            "1          1  ...       M3    21.58   22674.26  17441.74     18547.00   \n",
            "2          1  ...       KG   576.00     654.00    576.00      4475.52   \n",
            "3          1  ...       KG    84.00     100.75     84.00       525.00   \n",
            "4          1  ...       KG    30.00      35.98     30.00       114.00   \n",
            "...      ...  ...      ...      ...        ...       ...          ...   \n",
            "41153      1  ...       KG   303.59     326.87    303.59  15985156.02   \n",
            "41154      1  ...       KG    49.81      55.68     49.81   1198388.10   \n",
            "41155      1  ...       KG    94.56     103.06     94.56   4921333.08   \n",
            "41156      1  ...       KG     2.71       3.06      2.71     63722.65   \n",
            "41157      1  ...       KG  1019.88    1077.28   1019.88     40435.80   \n",
            "\n",
            "             FOBPES    AGRENA  FLETES  SEGURO  OTROSG  \n",
            "0      4.572566e+08         0       0       0       0  \n",
            "1      7.846512e+07         0       0       0       0  \n",
            "2      1.814268e+07         0  1353.6       0       0  \n",
            "3      2.221070e+06         0       0       0       0  \n",
            "4      4.822895e+05         0       0       0       0  \n",
            "...             ...       ...     ...     ...     ...  \n",
            "41153  6.769292e+10         0       0       0       0  \n",
            "41154  5.075741e+09         0       0       0       0  \n",
            "41155  2.059895e+10         0       0       0       0  \n",
            "41156  2.625768e+08         0       0       0       0  \n",
            "41157  1.701053e+08  34946.11       0       0       0  \n",
            "\n",
            "[41158 rows x 27 columns]\n"
          ]
        }
      ]
    },
    {
      "cell_type": "code",
      "source": [
        "# Convertir la columna 'FOBDOL' a números flotantes\n",
        "df_octubre['FOBDOL'] = df_octubre['FOBDOL'].astype(float)"
      ],
      "metadata": {
        "id": "NIQRUqd_bPNq"
      },
      "execution_count": null,
      "outputs": []
    },
    {
      "cell_type": "code",
      "source": [
        "#resumen de las exportaciones por paísd destino\n",
        "\n",
        "resumen_expo_octubre = df_octubre.groupby('COD_PAI4').agg({'CANTI': 'sum', 'FOBDOL': 'sum'})\n",
        "\n"
      ],
      "metadata": {
        "id": "Bi7AoNsAXFzd"
      },
      "execution_count": null,
      "outputs": []
    },
    {
      "cell_type": "code",
      "source": [
        "# Mostrar el resumen de las ventas de octubre por país\n",
        "print(\"\\nResumen de las ventas por exportaciones en octubre por país:\")\n",
        "print(resumen_expo_octubre)"
      ],
      "metadata": {
        "id": "ujHfhk4aaSHd",
        "outputId": "20d1972d-cd0b-435b-b4ac-f6ce30ad5b49",
        "colab": {
          "base_uri": "https://localhost:8080/"
        }
      },
      "execution_count": null,
      "outputs": [
        {
          "output_type": "stream",
          "name": "stdout",
          "text": [
            "\n",
            "Resumen de las ventas por exportaciones en octubre por país:\n",
            "                CANTI       FOBDOL\n",
            "COD_PAI4                          \n",
            "ABW        2919811.87   2312176.91\n",
            "AGO             69.00     14975.42\n",
            "ARE        2671199.20  12818371.56\n",
            "ARG       14840880.55  31540809.43\n",
            "ARM          51798.00     10913.22\n",
            "...               ...          ...\n",
            "VNM         463228.67   2232578.15\n",
            "XCF       89400003.41  45798867.00\n",
            "YEM          23648.00     46240.00\n",
            "ZAF       10835325.75   4353697.65\n",
            "ZMB             92.00       200.00\n",
            "\n",
            "[150 rows x 2 columns]\n"
          ]
        }
      ]
    },
    {
      "cell_type": "code",
      "source": [
        "# Calcular el precio promedio por exportaciones por país\n",
        "precio_promedio_octubre = df_octubre.groupby('COD_PAI4')['FOBDOL'].mean()"
      ],
      "metadata": {
        "id": "K46bSLPaai5Q"
      },
      "execution_count": null,
      "outputs": []
    },
    {
      "cell_type": "code",
      "source": [
        "# Mostrar el precio promedio por exportaciones por país\n",
        "print(precio_promedio_octubre)"
      ],
      "metadata": {
        "id": "BToIBRUZb0er",
        "outputId": "f0688561-c5ee-4a6e-f6c9-92657ce6f23d",
        "colab": {
          "base_uri": "https://localhost:8080/"
        }
      },
      "execution_count": null,
      "outputs": [
        {
          "output_type": "stream",
          "name": "stdout",
          "text": [
            "COD_PAI4\n",
            "ABW      2937.963037\n",
            "AGO      2995.084000\n",
            "ARE     44354.226851\n",
            "ARG    124176.415079\n",
            "ARM      1559.031429\n",
            "           ...      \n",
            "VNM     69768.067187\n",
            "XCF    349609.671756\n",
            "YEM     46240.000000\n",
            "ZAF    207318.935714\n",
            "ZMB       200.000000\n",
            "Name: FOBDOL, Length: 150, dtype: float64\n"
          ]
        }
      ]
    }
  ],
  "metadata": {
    "colab": {
      "provenance": [],
      "include_colab_link": true
    },
    "kernelspec": {
      "display_name": "Python 3",
      "name": "python3"
    }
  },
  "nbformat": 4,
  "nbformat_minor": 0
}